{
  "nbformat": 4,
  "nbformat_minor": 0,
  "metadata": {
    "kernelspec": {
      "display_name": "Python 3",
      "language": "python",
      "name": "python3"
    },
    "language_info": {
      "codemirror_mode": {
        "name": "ipython",
        "version": 3
      },
      "file_extension": ".py",
      "mimetype": "text/x-python",
      "name": "python",
      "nbconvert_exporter": "python",
      "pygments_lexer": "ipython3",
      "version": "3.7.6"
    },
    "colab": {
      "provenance": [],
      "include_colab_link": true
    }
  },
  "cells": [
    {
      "cell_type": "markdown",
      "metadata": {
        "id": "view-in-github",
        "colab_type": "text"
      },
      "source": [
        "<a href=\"https://colab.research.google.com/github/ChristianVieriSinulingga/ANFIS-Vieri/blob/main/anfis1.ipynb\" target=\"_parent\"><img src=\"https://colab.research.google.com/assets/colab-badge.svg\" alt=\"Open In Colab\"/></a>"
      ]
    },
    {
      "cell_type": "code",
      "source": [
        "# Clone dataset\n",
        "!git clone https://github.com/fractalliter/stock-market-index-perdiction"
      ],
      "metadata": {
        "colab": {
          "base_uri": "https://localhost:8080/"
        },
        "id": "-LAgOW6bcLs6",
        "outputId": "0a60e529-b5ea-44d0-e714-7a7c983cc563"
      },
      "execution_count": 20,
      "outputs": [
        {
          "output_type": "stream",
          "name": "stdout",
          "text": [
            "fatal: destination path 'stock-market-index-perdiction' already exists and is not an empty directory.\n"
          ]
        }
      ]
    },
    {
      "cell_type": "code",
      "source": [
        "# Clone dataset\n",
        "!git clone https://github.com/ChristianVieriSinulingga/ANFIS-Vieri"
      ],
      "metadata": {
        "colab": {
          "base_uri": "https://localhost:8080/"
        },
        "id": "vxGIgrfbbjk3",
        "outputId": "73f0d525-c45f-40d7-fd59-b0cbb4305bf3"
      },
      "execution_count": 16,
      "outputs": [
        {
          "output_type": "stream",
          "name": "stdout",
          "text": [
            "fatal: destination path 'ANFIS-Vieri' already exists and is not an empty directory.\n"
          ]
        }
      ]
    },
    {
      "cell_type": "code",
      "metadata": {
        "id": "YC5xUNKtgVJi",
        "colab": {
          "base_uri": "https://localhost:8080/",
          "height": 384
        },
        "outputId": "797b532d-93b0-4c5c-8ebc-16b47722e68d"
      },
      "source": [
        "import time\n",
        "import tensorflow as tf\n",
        "import numpy as np\n",
        "import matplotlib.pyplot as plt\n",
        "from anfis1 import ANFIS\n",
        "\n",
        "\n",
        "# # Generate dataset\n",
        "D = 4  # number of regressors\n",
        "ts = np.loadtxt(\"Data-V2.csv\", delimiter=\",\", skiprows=1,)\n",
        "data = ts[:, 0:4]\n",
        "lbls = ts[:, 0]\n",
        "\n",
        "trnData = data\n",
        "trnLbls = lbls\n",
        "chkData = data[lbls.size - round(lbls.size * 0.15):, :]\n",
        "chkLbls = lbls[lbls.size - round(lbls.size * 0.15):]\n",
        "\n",
        "# ANFIS params and Tensorflow graph initialization\n",
        "m = 4  # number of rules\n",
        "alpha = 0.02  # learning rate\n",
        "\n",
        "fis = ANFIS(n_inputs=D, n_rules=m, learning_rate=alpha)\n",
        "\n",
        "# Training\n",
        "num_epochs = 20000\n",
        "print(len(trnData), len(trnLbls), len(chkData), len(chkLbls))\n",
        "# Initialize session to make computations on the Tensorflow graph\n",
        "with tf.Session() as sess:\n",
        "    # Initialize model parameters\n",
        "    sess.run(fis.init_variables)\n",
        "    trn_costs = []\n",
        "    val_costs = []\n",
        "    time_start = time.time()\n",
        "    for epoch in range(num_epochs):\n",
        "        #  Run an update step\n",
        "        trn_loss, trn_pred = fis.train(sess, trnData, trnLbls)\n",
        "        # Evaluate on validation set\n",
        "        val_pred, val_loss = fis.infer(sess, chkData, chkLbls)\n",
        "        if epoch % 10 == 0:\n",
        "            print(\"Train cost after epoch %i: %f\" % (epoch, trn_loss))\n",
        "        if epoch == num_epochs - 1:\n",
        "            time_end = time.time()\n",
        "            print(\"Elapsed time: %f\" % (time_end - time_start))\n",
        "            print(\"Validation loss: %f\" % val_loss)\n",
        "            # Plot real vs. predicted\n",
        "            pred = np.vstack((np.expand_dims(trn_pred, 1),\n",
        "                              np.expand_dims(val_pred, 1)))\n",
        "            plt.figure(\"ANFIS Prediction\")\n",
        "            # plt.plot(ts)\n",
        "            # plt.plot(pred)\n",
        "            plt.plot(range(len(pred)),\n",
        "                     pred, 'r', label='trained')\n",
        "            plt.plot(range(len(lbls)), lbls, 'b', label='original')\n",
        "            plt.legend(loc='upper left')\n",
        "        trn_costs.append(trn_loss)\n",
        "        val_costs.append(val_loss)\n",
        "    # Plot the cost over epochs\n",
        "    plt.figure(2)\n",
        "    plt.subplot(2, 1, 1)\n",
        "    plt.plot(np.squeeze(trn_costs))\n",
        "    plt.title(\"Training loss, Learning rate =\" + str(alpha))\n",
        "    plt.subplot(2, 1, 2)\n",
        "    plt.plot(np.squeeze(val_costs))\n",
        "    plt.title(\"Validation loss, Learning rate =\" + str(alpha))\n",
        "    plt.ylabel('RMSE')\n",
        "    plt.xlabel('Epochs')\n",
        "    # Plot resulting membership functions\n",
        "    fis.plotmfs(sess)\n",
        "    plt.show()"
      ],
      "execution_count": 19,
      "outputs": [
        {
          "output_type": "error",
          "ename": "ModuleNotFoundError",
          "evalue": "No module named 'anfis1'",
          "traceback": [
            "\u001b[0;31m---------------------------------------------------------------------------\u001b[0m",
            "\u001b[0;31mModuleNotFoundError\u001b[0m                       Traceback (most recent call last)",
            "\u001b[0;32m<ipython-input-19-66d604447cf2>\u001b[0m in \u001b[0;36m<cell line: 5>\u001b[0;34m()\u001b[0m\n\u001b[1;32m      3\u001b[0m \u001b[0;32mimport\u001b[0m \u001b[0mnumpy\u001b[0m \u001b[0;32mas\u001b[0m \u001b[0mnp\u001b[0m\u001b[0;34m\u001b[0m\u001b[0;34m\u001b[0m\u001b[0m\n\u001b[1;32m      4\u001b[0m \u001b[0;32mimport\u001b[0m \u001b[0mmatplotlib\u001b[0m\u001b[0;34m.\u001b[0m\u001b[0mpyplot\u001b[0m \u001b[0;32mas\u001b[0m \u001b[0mplt\u001b[0m\u001b[0;34m\u001b[0m\u001b[0;34m\u001b[0m\u001b[0m\n\u001b[0;32m----> 5\u001b[0;31m \u001b[0;32mfrom\u001b[0m \u001b[0manfis1\u001b[0m \u001b[0;32mimport\u001b[0m \u001b[0mANFIS\u001b[0m\u001b[0;34m\u001b[0m\u001b[0;34m\u001b[0m\u001b[0m\n\u001b[0m\u001b[1;32m      6\u001b[0m \u001b[0;34m\u001b[0m\u001b[0m\n\u001b[1;32m      7\u001b[0m \u001b[0;34m\u001b[0m\u001b[0m\n",
            "\u001b[0;31mModuleNotFoundError\u001b[0m: No module named 'anfis1'",
            "",
            "\u001b[0;31m---------------------------------------------------------------------------\u001b[0;32m\nNOTE: If your import is failing due to a missing package, you can\nmanually install dependencies using either !pip or !apt.\n\nTo view examples of installing some common dependencies, click the\n\"Open Examples\" button below.\n\u001b[0;31m---------------------------------------------------------------------------\u001b[0m\n"
          ],
          "errorDetails": {
            "actions": [
              {
                "action": "open_url",
                "actionText": "Open Examples",
                "url": "/notebooks/snippets/importing_libraries.ipynb"
              }
            ]
          }
        }
      ]
    },
    {
      "cell_type": "code",
      "source": [],
      "metadata": {
        "id": "y_sEmQ4WcJnF"
      },
      "execution_count": null,
      "outputs": []
    },
    {
      "cell_type": "code",
      "metadata": {
        "id": "IiFYwgzdgVJn"
      },
      "source": [
        "ts = numpy.loadtxt(\"beasiswa.txt\", usecols=[1,2,3])\n",
        "X = ts[:,0:2]\n",
        "Y = ts[:,2]"
      ],
      "execution_count": null,
      "outputs": []
    },
    {
      "cell_type": "code",
      "metadata": {
        "id": "uaNb0FbMgVJp",
        "colab": {
          "base_uri": "https://localhost:8080/",
          "height": 909
        },
        "outputId": "8c73d618-e4f5-472c-a392-76c89f3d3ec1"
      },
      "source": [
        "mf = [[['gaussmf',{'mean':0.,'sigma':1.}],['gaussmf',{'mean':-1.,'sigma':2.}],['gaussmf',{'mean':-4.,'sigma':10.}],['gaussmf',{'mean':-7.,'sigma':7.}]],\n",
        "            [['gaussmf',{'mean':1.,'sigma':2.}],['gaussmf',{'mean':2.,'sigma':3.}],['gaussmf',{'mean':-2.,'sigma':10.}],['gaussmf',{'mean':-10.5,'sigma':5.}]]]\n",
        "\n",
        "\n",
        "mfc = membership.membershipfunction.MemFuncs(mf)\n",
        "anf = anfis.ANFIS(X, Y, mfc)\n",
        "anf.trainHybridJangOffLine(epochs=20)\n",
        "\n",
        "print (round(anf.consequents[-1][0],6))\n",
        "print (round(anf.consequents[-2][0],6))\n",
        "print (round(anf.fittedValues[9][0],6))\n",
        "if round(anf.consequents[-1][0],6) == -5.275538 and round(anf.consequents[-2][0],6) == -1.990703 and round(anf.fittedValues[9][0],6) == 0.002249:\n",
        "    print ('test is good')\n",
        "\n",
        "\n",
        "anf.plotErrors()\n",
        "anf.plotResults()"
      ],
      "execution_count": null,
      "outputs": [
        {
          "output_type": "stream",
          "text": [
            "current error:  0.07391912244673388\n",
            "current error:  0.07411221328521642\n",
            "current error:  0.07429984207863703\n",
            "current error:  0.0744816868491186\n",
            "current error:  0.0746574266451628\n",
            "current error:  0.07482673622865978\n",
            "current error:  0.07498928034048638\n",
            "current error:  0.0751447075690014\n",
            "current error:  0.07529264386728655\n",
            "current error:  0.07543268579666738\n",
            "current error:  0.07556439361579972\n",
            "current error:  0.07568728438763593\n",
            "current error:  0.07580082534343092\n",
            "current error:  0.07590442782160506\n",
            "current error:  0.0759974421855996\n",
            "current error:  0.07607915421533347\n",
            "current error:  0.07614878354426617\n",
            "current error:  0.07620548476380866\n",
            "current error:  0.0762483518109786\n",
            "0.016728\n",
            "-0.048074\n",
            "1.012498\n"
          ],
          "name": "stdout"
        },
        {
          "output_type": "display_data",
          "data": {
            "image/png": "[encoded data removed]",
            "text/plain": [
              "<Figure size 432x288 with 1 Axes>"
            ]
          },
          "metadata": {
            "tags": [],
            "needs_background": "light"
          }
        },
        {
          "output_type": "display_data",
          "data": {
            "image/png": "[encoded data removed]",
            "text/plain": [
              "<Figure size 432x288 with 1 Axes>"
            ]
          },
          "metadata": {
            "tags": [],
            "needs_background": "light"
          }
        }
      ]
    },
    {
      "cell_type": "code",
      "metadata": {
        "id": "484tE01kgVJt",
        "colab": {
          "base_uri": "https://localhost:8080/",
          "height": 35
        },
        "outputId": "80d85427-a4a7-4c47-be62-bccd93f54396"
      },
      "source": [
        "X = numpy.asarray([[3.2,3.4]])\n",
        "X"
      ],
      "execution_count": null,
      "outputs": [
        {
          "output_type": "execute_result",
          "data": {
            "text/plain": [
              "array([[3.2, 3.4]])"
            ]
          },
          "metadata": {
            "tags": []
          },
          "execution_count": 25
        }
      ]
    },
    {
      "cell_type": "code",
      "metadata": {
        "id": "XXLX1wg0gVJw",
        "colab": {
          "base_uri": "https://localhost:8080/",
          "height": 35
        },
        "outputId": "239e5ea6-02e8-4413-9d15-1cbb85e6140c"
      },
      "source": [
        "import anfis\n",
        "numpy.round(anfis.predict(anf,X))"
      ],
      "execution_count": null,
      "outputs": [
        {
          "output_type": "execute_result",
          "data": {
            "text/plain": [
              "array([[1.]])"
            ]
          },
          "metadata": {
            "tags": []
          },
          "execution_count": 27
        }
      ]
    }
  ]
}